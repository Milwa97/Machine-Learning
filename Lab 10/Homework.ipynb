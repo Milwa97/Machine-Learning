{
 "cells": [
  {
   "cell_type": "markdown",
   "metadata": {},
   "source": [
    "# Homework 10\n",
    "\n",
    "### Your task now is to construct a neural network (in Keras) that learns clasification on this data set. Try to optimize and regularize it with the methods you have learned in class and by going thrugh this notebook. What is the best validation dataset score you can achieve?\n",
    "\n",
    "Here's what you should take away from this example:\n",
    "\n",
    "- If you are trying to classify data points between N classes, your network should end with a Dense layer of size N.\n",
    "- In a single-label, multi-class classification problem, your network should end with a softmax activation, so that it will output a probability distribution over the N output classes.\n",
    "- Categorical crossentropy is almost always the loss function you should use for such problems. It minimizes the distance between the probability distributions output by the network, and the true distribution of the targets.\n",
    "- There are two ways to handle labels in multi-class classification: Encoding the labels via \"categorical encoding\" (also known as \"one-hot encoding\") and using categorical_crossentropy as your loss function. Encoding the labels as integers and using the sparse_categorical_crossentropy loss function.\n",
    "- If you need to classify data into a large number of categories, then you should avoid creating information bottlenecks in your network by having intermediate layers that are too small.\n",
    "\n",
    "#### author: Maria Lewandowska\n",
    "#### date: 20.05.2019"
   ]
  },
  {
   "cell_type": "code",
   "execution_count": 1,
   "metadata": {},
   "outputs": [
    {
     "name": "stderr",
     "output_type": "stream",
     "text": [
      "Using TensorFlow backend.\n"
     ]
    }
   ],
   "source": [
    "import matplotlib\n",
    "import matplotlib.pyplot as plt\n",
    "import matplotlib.cm as cmx\n",
    "import matplotlib.colors as colors\n",
    "plt.rcParams['axes.labelsize'] = 14\n",
    "plt.rcParams['xtick.labelsize'] = 12\n",
    "plt.rcParams['ytick.labelsize'] = 12\n",
    "plt.rcParams['figure.figsize']=12,10\n",
    "\n",
    "import numpy as np\n",
    "import random\n",
    "\n",
    "import keras\n",
    "from keras import models\n",
    "from keras import layers\n",
    "#from keras import losses\n",
    "#from keras import metrics\n",
    "#from keras.utils import to_categorical\n",
    "\n",
    "import warnings\n",
    "warnings.filterwarnings('ignore')\n",
    "\n",
    "np.random.seed(21)\n",
    "\n",
    "%matplotlib inline"
   ]
  },
  {
   "cell_type": "code",
   "execution_count": 2,
   "metadata": {
    "scrolled": true
   },
   "outputs": [
    {
     "name": "stdout",
     "output_type": "stream",
     "text": [
      "lenght of the training data 8982\n",
      "lenght of the testing data 2246\n"
     ]
    }
   ],
   "source": [
    "from keras.datasets import reuters\n",
    "\n",
    "(train_data, train_labels), (test_data, test_labels) = reuters.load_data(num_words=10000)\n",
    "\n",
    "print('lenght of the training data', len(train_data))\n",
    "print('lenght of the testing data', len(test_data))"
   ]
  },
  {
   "cell_type": "markdown",
   "metadata": {},
   "source": [
    "The label associated with an example is an integer between 0 and 45: a topic index."
   ]
  },
  {
   "cell_type": "code",
   "execution_count": 3,
   "metadata": {},
   "outputs": [
    {
     "data": {
      "text/plain": [
       "array([ 0,  1,  2,  3,  4,  5,  6,  7,  8,  9, 10, 11, 12, 13, 14, 15, 16,\n",
       "       17, 18, 19, 20, 21, 22, 23, 24, 25, 26, 27, 28, 29, 30, 31, 32, 33,\n",
       "       34, 35, 36, 37, 38, 39, 40, 41, 42, 43, 44, 45])"
      ]
     },
     "execution_count": 3,
     "metadata": {},
     "output_type": "execute_result"
    }
   ],
   "source": [
    "number_of_labels = len(np.unique(train_labels))\n",
    "np.unique(train_labels)"
   ]
  },
  {
   "cell_type": "markdown",
   "metadata": {},
   "source": [
    "## Preparing the data\n",
    "\n",
    "We can vectorize the data with the exact same code as in our previous example:"
   ]
  },
  {
   "cell_type": "code",
   "execution_count": 4,
   "metadata": {},
   "outputs": [],
   "source": [
    "def vectorize_sequences(sequences, dimension=10000):\n",
    "    results = np.zeros((len(sequences), dimension))\n",
    "    for i, sequence in enumerate(sequences):\n",
    "        results[i, sequence] = 1.\n",
    "    return results\n",
    "\n",
    "# Our vectorized training and testing data\n",
    "x_train = vectorize_sequences(train_data)\n",
    "x_test = vectorize_sequences(test_data)\n",
    "\n",
    "number_of_features = len(x_test[1])"
   ]
  },
  {
   "cell_type": "code",
   "execution_count": 5,
   "metadata": {},
   "outputs": [],
   "source": [
    "def to_one_hot(labels, dimension=46):\n",
    "    results = np.zeros((len(labels), dimension))\n",
    "    for i, label in enumerate(labels):\n",
    "        results[i, label] = 1.\n",
    "    return results\n",
    "\n",
    "# Our vectorized training and testing labels\n",
    "one_hot_train_labels = to_one_hot(train_labels)\n",
    "one_hot_test_labels = to_one_hot(test_labels)"
   ]
  },
  {
   "cell_type": "code",
   "execution_count": 6,
   "metadata": {},
   "outputs": [],
   "source": [
    "from keras.utils.np_utils import to_categorical\n",
    "\n",
    "one_hot_train_labels = to_categorical(train_labels)\n",
    "one_hot_test_labels = to_categorical(test_labels)"
   ]
  },
  {
   "cell_type": "markdown",
   "metadata": {},
   "source": [
    "## Network implementation"
   ]
  },
  {
   "cell_type": "code",
   "execution_count": 7,
   "metadata": {},
   "outputs": [
    {
     "name": "stdout",
     "output_type": "stream",
     "text": [
      "WARNING:tensorflow:From /home/neofelia/anaconda3/lib/python3.7/site-packages/tensorflow/python/framework/op_def_library.py:263: colocate_with (from tensorflow.python.framework.ops) is deprecated and will be removed in a future version.\n",
      "Instructions for updating:\n",
      "Colocations handled automatically by placer.\n"
     ]
    }
   ],
   "source": [
    "network = models.Sequential()\n",
    "network.add(layers.Dense(units = 100, activation = 'relu', input_shape = (number_of_features,) ))\n",
    "network.add(layers.Dense(units = 100, activation = 'relu'))\n",
    "\n",
    "network.add(layers.Dense(units = number_of_labels, activation = 'softmax'))\n"
   ]
  },
  {
   "cell_type": "code",
   "execution_count": 8,
   "metadata": {},
   "outputs": [],
   "source": [
    "network.compile(loss = 'categorical_crossentropy',\n",
    "               optimizer='rmsprop',\n",
    "               metrics = ['accuracy'])"
   ]
  },
  {
   "cell_type": "code",
   "execution_count": 9,
   "metadata": {},
   "outputs": [
    {
     "name": "stdout",
     "output_type": "stream",
     "text": [
      "WARNING:tensorflow:From /home/neofelia/anaconda3/lib/python3.7/site-packages/tensorflow/python/ops/math_ops.py:3066: to_int32 (from tensorflow.python.ops.math_ops) is deprecated and will be removed in a future version.\n",
      "Instructions for updating:\n",
      "Use tf.cast instead.\n",
      "Train on 8982 samples, validate on 2246 samples\n",
      "Epoch 1/10\n",
      "8982/8982 [==============================] - 4s 421us/step - loss: 1.5302 - acc: 0.6746 - val_loss: 1.1283 - val_acc: 0.7440\n",
      "Epoch 2/10\n",
      "8982/8982 [==============================] - 2s 275us/step - loss: 0.7567 - acc: 0.8320 - val_loss: 0.9325 - val_acc: 0.7921\n",
      "Epoch 3/10\n",
      "8982/8982 [==============================] - 2s 252us/step - loss: 0.4620 - acc: 0.9007 - val_loss: 0.9217 - val_acc: 0.8001\n",
      "Epoch 4/10\n",
      "8982/8982 [==============================] - 2s 258us/step - loss: 0.3247 - acc: 0.9280 - val_loss: 0.9188 - val_acc: 0.8108\n",
      "Epoch 5/10\n",
      "8982/8982 [==============================] - 2s 254us/step - loss: 0.2463 - acc: 0.9427 - val_loss: 1.0381 - val_acc: 0.7979\n",
      "Epoch 6/10\n",
      "8982/8982 [==============================] - 2s 252us/step - loss: 0.2097 - acc: 0.9459 - val_loss: 1.0550 - val_acc: 0.7943\n",
      "Epoch 7/10\n",
      "8982/8982 [==============================] - 2s 258us/step - loss: 0.1880 - acc: 0.9499 - val_loss: 1.1305 - val_acc: 0.7974\n",
      "Epoch 8/10\n",
      "8982/8982 [==============================] - 2s 260us/step - loss: 0.1768 - acc: 0.9513 - val_loss: 1.1301 - val_acc: 0.7996\n",
      "Epoch 9/10\n",
      "8982/8982 [==============================] - 2s 266us/step - loss: 0.1635 - acc: 0.9508 - val_loss: 1.2410 - val_acc: 0.7916\n",
      "Epoch 10/10\n",
      "8982/8982 [==============================] - 2s 263us/step - loss: 0.1560 - acc: 0.9537 - val_loss: 1.3328 - val_acc: 0.7796\n"
     ]
    }
   ],
   "source": [
    "history = network.fit(x_train,\n",
    "                      one_hot_train_labels,\n",
    "                      epochs=10,\n",
    "                      verbose =1,\n",
    "                      batch_size = 100,\n",
    "                      validation_data = (x_test, one_hot_test_labels)                      \n",
    "                     )"
   ]
  },
  {
   "cell_type": "markdown",
   "metadata": {},
   "source": [
    "## Model Visualisation"
   ]
  },
  {
   "cell_type": "code",
   "execution_count": 10,
   "metadata": {},
   "outputs": [],
   "source": [
    "from IPython.display import SVG\n",
    "from keras.utils.vis_utils import model_to_dot\n",
    "from keras.utils import plot_model"
   ]
  },
  {
   "cell_type": "code",
   "execution_count": 11,
   "metadata": {},
   "outputs": [
    {
     "data": {
      "image/svg+xml": [
       "<svg height=\"294pt\" viewBox=\"0.00 0.00 261.00 294.00\" width=\"261pt\" xmlns=\"http://www.w3.org/2000/svg\" xmlns:xlink=\"http://www.w3.org/1999/xlink\">\n",
       "<g class=\"graph\" id=\"graph0\" transform=\"scale(1 1) rotate(0) translate(4 290)\">\n",
       "<title>G</title>\n",
       "<polygon fill=\"#ffffff\" points=\"-4,4 -4,-290 257,-290 257,4 -4,4\" stroke=\"transparent\"/>\n",
       "<!-- 139931786805600 -->\n",
       "<g class=\"node\" id=\"node1\">\n",
       "<title>139931786805600</title>\n",
       "<polygon fill=\"none\" points=\"0,-166.5 0,-212.5 253,-212.5 253,-166.5 0,-166.5\" stroke=\"#000000\"/>\n",
       "<text fill=\"#000000\" font-family=\"Times,serif\" font-size=\"14.00\" text-anchor=\"middle\" x=\"51\" y=\"-185.8\">dense_1: Dense</text>\n",
       "<polyline fill=\"none\" points=\"102,-166.5 102,-212.5 \" stroke=\"#000000\"/>\n",
       "<text fill=\"#000000\" font-family=\"Times,serif\" font-size=\"14.00\" text-anchor=\"middle\" x=\"129.5\" y=\"-197.3\">input:</text>\n",
       "<polyline fill=\"none\" points=\"102,-189.5 157,-189.5 \" stroke=\"#000000\"/>\n",
       "<text fill=\"#000000\" font-family=\"Times,serif\" font-size=\"14.00\" text-anchor=\"middle\" x=\"129.5\" y=\"-174.3\">output:</text>\n",
       "<polyline fill=\"none\" points=\"157,-166.5 157,-212.5 \" stroke=\"#000000\"/>\n",
       "<text fill=\"#000000\" font-family=\"Times,serif\" font-size=\"14.00\" text-anchor=\"middle\" x=\"205\" y=\"-197.3\">(None, 10000)</text>\n",
       "<polyline fill=\"none\" points=\"157,-189.5 253,-189.5 \" stroke=\"#000000\"/>\n",
       "<text fill=\"#000000\" font-family=\"Times,serif\" font-size=\"14.00\" text-anchor=\"middle\" x=\"205\" y=\"-174.3\">(None, 100)</text>\n",
       "</g>\n",
       "<!-- 139931786806048 -->\n",
       "<g class=\"node\" id=\"node2\">\n",
       "<title>139931786806048</title>\n",
       "<polygon fill=\"none\" points=\"6.5,-83.5 6.5,-129.5 246.5,-129.5 246.5,-83.5 6.5,-83.5\" stroke=\"#000000\"/>\n",
       "<text fill=\"#000000\" font-family=\"Times,serif\" font-size=\"14.00\" text-anchor=\"middle\" x=\"57.5\" y=\"-102.8\">dense_2: Dense</text>\n",
       "<polyline fill=\"none\" points=\"108.5,-83.5 108.5,-129.5 \" stroke=\"#000000\"/>\n",
       "<text fill=\"#000000\" font-family=\"Times,serif\" font-size=\"14.00\" text-anchor=\"middle\" x=\"136\" y=\"-114.3\">input:</text>\n",
       "<polyline fill=\"none\" points=\"108.5,-106.5 163.5,-106.5 \" stroke=\"#000000\"/>\n",
       "<text fill=\"#000000\" font-family=\"Times,serif\" font-size=\"14.00\" text-anchor=\"middle\" x=\"136\" y=\"-91.3\">output:</text>\n",
       "<polyline fill=\"none\" points=\"163.5,-83.5 163.5,-129.5 \" stroke=\"#000000\"/>\n",
       "<text fill=\"#000000\" font-family=\"Times,serif\" font-size=\"14.00\" text-anchor=\"middle\" x=\"205\" y=\"-114.3\">(None, 100)</text>\n",
       "<polyline fill=\"none\" points=\"163.5,-106.5 246.5,-106.5 \" stroke=\"#000000\"/>\n",
       "<text fill=\"#000000\" font-family=\"Times,serif\" font-size=\"14.00\" text-anchor=\"middle\" x=\"205\" y=\"-91.3\">(None, 100)</text>\n",
       "</g>\n",
       "<!-- 139931786805600&#45;&gt;139931786806048 -->\n",
       "<g class=\"edge\" id=\"edge2\">\n",
       "<title>139931786805600-&gt;139931786806048</title>\n",
       "<path d=\"M126.5,-166.3799C126.5,-158.1745 126.5,-148.7679 126.5,-139.8786\" fill=\"none\" stroke=\"#000000\"/>\n",
       "<polygon fill=\"#000000\" points=\"130.0001,-139.784 126.5,-129.784 123.0001,-139.784 130.0001,-139.784\" stroke=\"#000000\"/>\n",
       "</g>\n",
       "<!-- 139931786807112 -->\n",
       "<g class=\"node\" id=\"node3\">\n",
       "<title>139931786807112</title>\n",
       "<polygon fill=\"none\" points=\"6.5,-.5 6.5,-46.5 246.5,-46.5 246.5,-.5 6.5,-.5\" stroke=\"#000000\"/>\n",
       "<text fill=\"#000000\" font-family=\"Times,serif\" font-size=\"14.00\" text-anchor=\"middle\" x=\"57.5\" y=\"-19.8\">dense_3: Dense</text>\n",
       "<polyline fill=\"none\" points=\"108.5,-.5 108.5,-46.5 \" stroke=\"#000000\"/>\n",
       "<text fill=\"#000000\" font-family=\"Times,serif\" font-size=\"14.00\" text-anchor=\"middle\" x=\"136\" y=\"-31.3\">input:</text>\n",
       "<polyline fill=\"none\" points=\"108.5,-23.5 163.5,-23.5 \" stroke=\"#000000\"/>\n",
       "<text fill=\"#000000\" font-family=\"Times,serif\" font-size=\"14.00\" text-anchor=\"middle\" x=\"136\" y=\"-8.3\">output:</text>\n",
       "<polyline fill=\"none\" points=\"163.5,-.5 163.5,-46.5 \" stroke=\"#000000\"/>\n",
       "<text fill=\"#000000\" font-family=\"Times,serif\" font-size=\"14.00\" text-anchor=\"middle\" x=\"205\" y=\"-31.3\">(None, 100)</text>\n",
       "<polyline fill=\"none\" points=\"163.5,-23.5 246.5,-23.5 \" stroke=\"#000000\"/>\n",
       "<text fill=\"#000000\" font-family=\"Times,serif\" font-size=\"14.00\" text-anchor=\"middle\" x=\"205\" y=\"-8.3\">(None, 46)</text>\n",
       "</g>\n",
       "<!-- 139931786806048&#45;&gt;139931786807112 -->\n",
       "<g class=\"edge\" id=\"edge3\">\n",
       "<title>139931786806048-&gt;139931786807112</title>\n",
       "<path d=\"M126.5,-83.3799C126.5,-75.1745 126.5,-65.7679 126.5,-56.8786\" fill=\"none\" stroke=\"#000000\"/>\n",
       "<polygon fill=\"#000000\" points=\"130.0001,-56.784 126.5,-46.784 123.0001,-56.784 130.0001,-56.784\" stroke=\"#000000\"/>\n",
       "</g>\n",
       "<!-- 139931786806664 -->\n",
       "<g class=\"node\" id=\"node4\">\n",
       "<title>139931786806664</title>\n",
       "<polygon fill=\"none\" points=\"67.5,-249.5 67.5,-285.5 185.5,-285.5 185.5,-249.5 67.5,-249.5\" stroke=\"#000000\"/>\n",
       "<text fill=\"#000000\" font-family=\"Times,serif\" font-size=\"14.00\" text-anchor=\"middle\" x=\"126.5\" y=\"-263.8\">139931786806664</text>\n",
       "</g>\n",
       "<!-- 139931786806664&#45;&gt;139931786805600 -->\n",
       "<g class=\"edge\" id=\"edge1\">\n",
       "<title>139931786806664-&gt;139931786805600</title>\n",
       "<path d=\"M126.5,-249.4092C126.5,-241.4308 126.5,-231.795 126.5,-222.606\" fill=\"none\" stroke=\"#000000\"/>\n",
       "<polygon fill=\"#000000\" points=\"130.0001,-222.5333 126.5,-212.5333 123.0001,-222.5334 130.0001,-222.5333\" stroke=\"#000000\"/>\n",
       "</g>\n",
       "</g>\n",
       "</svg>"
      ],
      "text/plain": [
       "<IPython.core.display.SVG object>"
      ]
     },
     "execution_count": 11,
     "metadata": {},
     "output_type": "execute_result"
    }
   ],
   "source": [
    "plot_model(network, show_shapes=True, to_file='network.png')\n",
    "SVG(model_to_dot(network, show_shapes = True).create(prog = 'dot', format = 'svg') )"
   ]
  },
  {
   "cell_type": "markdown",
   "metadata": {},
   "source": [
    "## Results"
   ]
  },
  {
   "cell_type": "code",
   "execution_count": 12,
   "metadata": {
    "scrolled": true
   },
   "outputs": [],
   "source": [
    "training_loss = history.history['loss']\n",
    "test_loss =  history.history['val_loss']\n",
    "trainig_accuracy = history.history['acc']\n",
    "test_accuracy = history.history['val_acc']\n",
    "\n",
    "epoch_count = range(1, len(training_loss)+1)"
   ]
  },
  {
   "cell_type": "code",
   "execution_count": 13,
   "metadata": {},
   "outputs": [
    {
     "data": {
      "image/png": "[encoded data removed]",
      "text/plain": [
       "<Figure size 864x432 with 2 Axes>"
      ]
     },
     "metadata": {
      "needs_background": "light"
     },
     "output_type": "display_data"
    }
   ],
   "source": [
    "fig, axs = plt.subplots(nrows = 1, ncols = 2, sharex = False, figsize = (12,6))\n",
    "\n",
    "\n",
    "axs[0].plot(epoch_count, training_loss, 'g-o')\n",
    "axs[0].plot(epoch_count, test_loss, 'm-')\n",
    "axs[0].set_xlabel('Epoch')\n",
    "axs[0].set_ylabel('Loss')\n",
    "axs[0].legend(['training loss', 'test loss'], loc = 'upper right', fontsize = 15)\n",
    "\n",
    "axs[1].plot(epoch_count, trainig_accuracy, 'g-o')\n",
    "axs[1].plot(epoch_count, test_accuracy, 'm-')\n",
    "axs[1].set_xlabel('Epoch')\n",
    "axs[1].set_ylabel('Accuracy')\n",
    "axs[1].legend(['training accuracy', 'test accuracy'], loc = 'lower right', fontsize = 15)\n",
    "\n",
    "   \n",
    "fig.tight_layout()      \n",
    "plt.show()    "
   ]
  }
 ],
 "metadata": {
  "kernelspec": {
   "display_name": "Python 3",
   "language": "python",
   "name": "python3"
  },
  "language_info": {
   "codemirror_mode": {
    "name": "ipython",
    "version": 3
   },
   "file_extension": ".py",
   "mimetype": "text/x-python",
   "name": "python",
   "nbconvert_exporter": "python",
   "pygments_lexer": "ipython3",
   "version": "3.7.1"
  }
 },
 "nbformat": 4,
 "nbformat_minor": 2
}
