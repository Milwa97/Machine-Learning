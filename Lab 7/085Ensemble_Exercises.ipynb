{
 "cells": [
  {
   "cell_type": "markdown",
   "metadata": {},
   "source": [
    "# Ensemble methods. Exercises\n",
    "\n",
    "\n",
    "In this section we have only one exercise:\n",
    "\n",
    "1. Find the best three classifier in the stacking method using the classifiers from scikit-learn package, such as:\n",
    "\n",
    "\n",
    "* Linear regression,\n",
    "* Nearest Neighbors,\n",
    "* Linear SVM,\n",
    "* Decision Tree,\n",
    "* Naive Bayes,\n",
    "* QDA."
   ]
  },
  {
   "cell_type": "code",
   "execution_count": 1,
   "metadata": {},
   "outputs": [],
   "source": [
    "%store -r data_set\n",
    "%store -r labels\n",
    "%store -r test_data_set\n",
    "%store -r test_labels\n",
    "%store -r unique_labels"
   ]
  },
  {
   "cell_type": "markdown",
   "metadata": {},
   "source": [
    "## Exercise 1: Find the best three classifier in the stacking method"
   ]
  },
  {
   "cell_type": "code",
   "execution_count": 2,
   "metadata": {},
   "outputs": [],
   "source": [
    "import numpy as np\n",
    "from sklearn.metrics import accuracy_score\n",
    "\n",
    "from sklearn.linear_model import LinearRegression\n",
    "from sklearn.neighbors import KNeighborsClassifier\n",
    "from sklearn.svm import SVC\n",
    "from sklearn.tree import DecisionTreeClassifier\n",
    "from sklearn.naive_bayes import GaussianNB\n",
    "from sklearn.discriminant_analysis import QuadraticDiscriminantAnalysis\n",
    "import itertools as it"
   ]
  },
  {
   "cell_type": "code",
   "execution_count": 37,
   "metadata": {},
   "outputs": [],
   "source": [
    "def build_classifiers(): \n",
    "      \n",
    "    neighbors = KNeighborsClassifier()\n",
    "    neighbors.fit(data_set, labels)\n",
    "\n",
    "    linear_regression = LinearRegression()\n",
    "    linear_regression.fit(data_set, labels)\n",
    "\n",
    "    qda = QuadraticDiscriminantAnalysis()\n",
    "    qda.fit(data_set, labels)\n",
    "    \n",
    "    gauss = GaussianNB()\n",
    "    gauss.fit(data_set, labels)\n",
    "\n",
    "    svc = SVC()\n",
    "    svc.fit(data_set, labels)\n",
    "\n",
    "    return neighbors, linear_regression, qda, gauss, svc"
   ]
  },
  {
   "cell_type": "code",
   "execution_count": 74,
   "metadata": {},
   "outputs": [],
   "source": [
    "def build_stacked_classifier(classifiers):\n",
    "    output = [] \n",
    "    classifiers_list = []\n",
    "    \n",
    "    classifiers_combinations = it.combinations(classifiers, 3)\n",
    "    \n",
    "    \n",
    "    for model in classifiers_combinations:\n",
    "        tmp_output = []\n",
    "        tmp_model = []\n",
    "        for classifier in model:\n",
    "            tmp_output.append(classifier.predict(data_set)) \n",
    "            tmp_model.append(classifier)\n",
    "        tmp_output = np.array(tmp_output).reshape((130,3))\n",
    "        output.append(tmp_output)  # ten set of data, for each of 10 combination 3-elements from 5 elements set\n",
    "        classifiers_list.append(tmp_model)\n",
    "        \n",
    "    model_fit = []\n",
    "    for model_output in output:\n",
    "        stacked_classifier = DecisionTreeClassifier()\n",
    "        model_fit.append(stacked_classifier.fit(model_output.reshape((130,3)), labels.reshape((130,))))\n",
    " \n",
    "\n",
    "    test_predictions_list = []   \n",
    "    for i in range(len(model_fit)):\n",
    "        classifiers = classifiers_list[i]\n",
    "        stacked_classifier = model_fit[i]\n",
    "        test_set = []\n",
    "        \n",
    "        for classifier in classifiers:\n",
    "            test_set.append(classifier.predict(test_data_set))\n",
    "        test_set = np.array(test_set).reshape((len(test_set[0]),3))\n",
    "        predicted = stacked_classifier.predict(test_set)\n",
    "        test_predictions_list.append(predicted)\n",
    "    \n",
    "    accuracy_list = []\n",
    "    for prediction in test_predictions_list:\n",
    "        accuracy_list.append(accuracy_score(test_labels, prediction))\n",
    "        accuracy = accuracy_score(test_labels, prediction) ##\n",
    "        #print(accuracy)\n",
    "    \n",
    "    best_prediction_index = np.argmax(accuracy_list)\n",
    "    \n",
    "    best_classifiers = classifiers_list[best_prediction_index]\n",
    "    best_stacked_classifier = model_fit[best_prediction_index]\n",
    "    best_predicted = best_stacked_classifier.predict(test_set)\n",
    "    \n",
    "    return best_classifiers, best_predicted\n"
   ]
  },
  {
   "cell_type": "code",
   "execution_count": 75,
   "metadata": {},
   "outputs": [
    {
     "name": "stdout",
     "output_type": "stream",
     "text": [
      "\n",
      "Best set of classifiers: [KNeighborsClassifier(algorithm='auto', leaf_size=30, metric='minkowski',\n",
      "           metric_params=None, n_jobs=None, n_neighbors=5, p=2,\n",
      "           weights='uniform'), GaussianNB(priors=None, var_smoothing=1e-09), SVC(C=1.0, cache_size=200, class_weight=None, coef0=0.0,\n",
      "  decision_function_shape='ovr', degree=3, gamma='auto_deprecated',\n",
      "  kernel='rbf', max_iter=-1, probability=False, random_state=None,\n",
      "  shrinking=True, tol=0.001, verbose=False)]\n",
      "\n",
      "Best accuracy: 0.75\n"
     ]
    },
    {
     "name": "stderr",
     "output_type": "stream",
     "text": [
      "/home/neofelia/anaconda3/lib/python3.7/site-packages/sklearn/svm/base.py:196: FutureWarning: The default value of gamma will change from 'auto' to 'scale' in version 0.22 to account better for unscaled features. Set gamma explicitly to 'auto' or 'scale' to avoid this warning.\n",
      "  \"avoid this warning.\", FutureWarning)\n"
     ]
    }
   ],
   "source": [
    "raw_list = [KNeighborsClassifier(),LinearRegression(), QuadraticDiscriminantAnalysis(),GaussianNB(),SVC()]  \n",
    "\n",
    "classifiers = build_classifiers()\n",
    "best_classifiers, predicted = build_stacked_classifier(classifiers)\n",
    "accuracy = accuracy_score(test_labels, predicted)\n",
    "print(\"\\nBest set of classifiers:\", best_classifiers)\n",
    "print(\"\\nBest accuracy:\",accuracy)"
   ]
  },
  {
   "cell_type": "code",
   "execution_count": null,
   "metadata": {},
   "outputs": [],
   "source": []
  },
  {
   "cell_type": "code",
   "execution_count": null,
   "metadata": {},
   "outputs": [],
   "source": []
  }
 ],
 "metadata": {
  "kernelspec": {
   "display_name": "Python 3",
   "language": "python",
   "name": "python3"
  },
  "language_info": {
   "codemirror_mode": {
    "name": "ipython",
    "version": 3
   },
   "file_extension": ".py",
   "mimetype": "text/x-python",
   "name": "python",
   "nbconvert_exporter": "python",
   "pygments_lexer": "ipython3",
   "version": "3.7.1"
  }
 },
 "nbformat": 4,
 "nbformat_minor": 2
}
