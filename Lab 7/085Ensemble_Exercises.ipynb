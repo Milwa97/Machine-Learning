{
 "cells": [
  {
   "cell_type": "markdown",
   "metadata": {},
   "source": [
    "# Ensemble methods. Exercises\n",
    "\n",
    "\n",
    "In this section we have only two exercise:\n",
    "\n",
    "1. Find the best three classifier in the stacking method using the classifiers from scikit-learn package.\n",
    "\n",
    "2. Build arcing arc-x4 method. "
   ]
  },
  {
   "cell_type": "code",
   "execution_count": 1,
   "metadata": {},
   "outputs": [],
   "source": [
    "%store -r data_set\n",
    "%store -r labels\n",
    "%store -r test_data_set\n",
    "%store -r test_labels\n",
    "%store -r unique_labels"
   ]
  },
  {
   "cell_type": "markdown",
   "metadata": {},
   "source": [
    "## Exercise 1: Find the best three classifier in the stacking method\n",
    "\n",
    "Please use the following classifiers:\n",
    "\n",
    "* Linear regression,\n",
    "* Nearest Neighbors,\n",
    "* Linear SVM,\n",
    "* Decision Tree,\n",
    "* Naive Bayes,\n",
    "* QDA."
   ]
  },
  {
   "cell_type": "code",
   "execution_count": 2,
   "metadata": {},
   "outputs": [],
   "source": [
    "import numpy as np\n",
    "from sklearn.metrics import accuracy_score\n",
    "\n",
    "from sklearn.linear_model import LinearRegression\n",
    "from sklearn.neighbors import KNeighborsClassifier\n",
    "from sklearn.svm import SVC\n",
    "from sklearn.tree import DecisionTreeClassifier\n",
    "from sklearn.naive_bayes import GaussianNB\n",
    "from sklearn.discriminant_analysis import QuadraticDiscriminantAnalysis\n",
    "import itertools as it\n",
    "\n",
    "import warnings\n",
    "warnings.filterwarnings('ignore')"
   ]
  },
  {
   "cell_type": "code",
   "execution_count": 3,
   "metadata": {},
   "outputs": [],
   "source": [
    "def build_classifiers(): \n",
    "      \n",
    "    neighbors = KNeighborsClassifier()\n",
    "    neighbors.fit(data_set, labels)\n",
    "\n",
    "    linear_regression = LinearRegression()\n",
    "    linear_regression.fit(data_set, labels)\n",
    "\n",
    "    qda = QuadraticDiscriminantAnalysis()\n",
    "    qda.fit(data_set, labels)\n",
    "    \n",
    "    gauss = GaussianNB()\n",
    "    gauss.fit(data_set, labels)\n",
    "\n",
    "    svc = SVC()\n",
    "    svc.fit(data_set, labels)\n",
    "\n",
    "    return neighbors, linear_regression, qda, gauss, svc"
   ]
  },
  {
   "cell_type": "code",
   "execution_count": 4,
   "metadata": {},
   "outputs": [],
   "source": [
    "def get_three_out_of_five(classifiers_combinations, stc):\n",
    "    \n",
    "    output = [] \n",
    "    classifiers_list = []\n",
    "    \n",
    "    for model in classifiers_combinations:\n",
    "        tmp_output = []\n",
    "        tmp_model = []\n",
    "        for classifier in model:\n",
    "            tmp_output.append(classifier.predict(data_set)) \n",
    "            tmp_model.append(classifier)\n",
    "        tmp_output = np.array(tmp_output).reshape((130,3))\n",
    "        output.append(tmp_output)  # ten set of data, for each of 10 combination 3-elements from 5 elements set\n",
    "        classifiers_list.append(tmp_model)\n",
    "        \n",
    "    model_fit = []\n",
    "    \n",
    "    for model_output in output:\n",
    "        stacked_classifier =  stc\n",
    "        model_fit.append(stacked_classifier.fit(model_output.reshape((130,3)), labels.reshape((130,))))\n",
    "      \n",
    "    return classifiers_list, model_fit"
   ]
  },
  {
   "cell_type": "code",
   "execution_count": 5,
   "metadata": {},
   "outputs": [],
   "source": [
    "def get_best_accuracy(accuracy_list, test_set, classifiers_list, model_fit):\n",
    "    \n",
    "    best_prediction_index = np.argmax(accuracy_list)\n",
    "    best_classifiers = classifiers_list[best_prediction_index]\n",
    "    best_stacked_classifier = model_fit[best_prediction_index]\n",
    "    best_predicted = best_stacked_classifier.predict(test_set)\n",
    "    \n",
    "    return  best_classifiers, best_predicted"
   ]
  },
  {
   "cell_type": "code",
   "execution_count": 6,
   "metadata": {},
   "outputs": [],
   "source": [
    "def get_best_prediction(model_fit, classifiers_list):\n",
    "    test_predictions_list = []   \n",
    "    \n",
    "    for i in range(len(model_fit)):\n",
    "        classifiers = classifiers_list[i]\n",
    "        stacked_classifier = model_fit[i]\n",
    "        test_set = []\n",
    "        \n",
    "        for classifier in classifiers:\n",
    "            test_set.append(classifier.predict(test_data_set))\n",
    "        test_set = np.array(test_set).reshape((len(test_set[0]),3))\n",
    "        predicted = stacked_classifier.predict(test_set)\n",
    "        test_predictions_list.append(predicted)\n",
    "    \n",
    "    accuracy_list = []\n",
    "    for prediction in test_predictions_list:\n",
    "        accuracy_list.append(accuracy_score(test_labels, prediction))\n",
    "        accuracy = accuracy_score(test_labels, prediction) \n",
    "       \n",
    "    return get_best_accuracy(accuracy_list, test_set, classifiers_list, model_fit)"
   ]
  },
  {
   "cell_type": "code",
   "execution_count": 7,
   "metadata": {},
   "outputs": [],
   "source": [
    "def build_stacked_classifier(classifiers, stc = GaussianNB() ):\n",
    "    \n",
    "    classifiers_combinations = it.combinations(classifiers, 3)\n",
    "    classifiers_list, model_fit = get_three_out_of_five(classifiers_combinations, stc)\n",
    "  \n",
    "    test_predictions_list = []  \n",
    "    accuracy_list = []    \n",
    "    return get_best_prediction(model_fit, classifiers_list)\n"
   ]
  },
  {
   "cell_type": "markdown",
   "metadata": {},
   "source": [
    "### Sprawdzenie modelu dla kilku różnych stacked stacked_classifier"
   ]
  },
  {
   "cell_type": "code",
   "execution_count": 8,
   "metadata": {},
   "outputs": [
    {
     "name": "stdout",
     "output_type": "stream",
     "text": [
      "\n",
      "Best set of classifiers: [KNeighborsClassifier(algorithm='auto', leaf_size=30, metric='minkowski',\n",
      "           metric_params=None, n_jobs=None, n_neighbors=5, p=2,\n",
      "           weights='uniform'), LinearRegression(copy_X=True, fit_intercept=True, n_jobs=None,\n",
      "         normalize=False), QuadraticDiscriminantAnalysis(priors=None, reg_param=0.0,\n",
      "               store_covariance=False, store_covariances=None, tol=0.0001)]\n",
      "\n",
      "Best accuracy: 1.0\n"
     ]
    }
   ],
   "source": [
    "raw_list = [KNeighborsClassifier(),LinearRegression(), QuadraticDiscriminantAnalysis(),GaussianNB(),SVC()]  \n",
    "\n",
    "classifiers = build_classifiers()\n",
    "best_classifiers, predicted = build_stacked_classifier(classifiers, stc = GaussianNB() )\n",
    "accuracy = accuracy_score(test_labels, predicted)\n",
    "print(\"\\nBest set of classifiers:\", best_classifiers)\n",
    "print(\"\\nBest accuracy:\",accuracy)"
   ]
  },
  {
   "cell_type": "code",
   "execution_count": 9,
   "metadata": {},
   "outputs": [
    {
     "name": "stdout",
     "output_type": "stream",
     "text": [
      "\n",
      "Best set of classifiers: [KNeighborsClassifier(algorithm='auto', leaf_size=30, metric='minkowski',\n",
      "           metric_params=None, n_jobs=None, n_neighbors=5, p=2,\n",
      "           weights='uniform'), QuadraticDiscriminantAnalysis(priors=None, reg_param=0.0,\n",
      "               store_covariance=False, store_covariances=None, tol=0.0001), GaussianNB(priors=None, var_smoothing=1e-09)]\n",
      "\n",
      "Best accuracy: 0.75\n"
     ]
    }
   ],
   "source": [
    "classifiers = build_classifiers()\n",
    "best_classifiers, predicted = build_stacked_classifier(classifiers, stc = QuadraticDiscriminantAnalysis() )\n",
    "accuracy = accuracy_score(test_labels, predicted)\n",
    "print(\"\\nBest set of classifiers:\", best_classifiers)\n",
    "print(\"\\nBest accuracy:\",accuracy)"
   ]
  },
  {
   "cell_type": "markdown",
   "metadata": {},
   "source": [
    "## Exercise 2: \n",
    "\n",
    "Use the boosting method and change the code to fullfilt the following requirements:\n",
    "\n",
    "* the weights should be calculated as:\n",
    "$w_{n}^{(t+1)}=\\frac{1+ I(y_{n}\\neq h_{t}(x_{n})}{\\sum_{i=1}^{N}1+I(y_{n}\\neq h_{t}(x_{n})}$,\n",
    "* the prediction is done with a voting method."
   ]
  },
  {
   "cell_type": "code",
   "execution_count": 10,
   "metadata": {},
   "outputs": [],
   "source": [
    "import numpy as np\n",
    "from sklearn.tree import DecisionTreeClassifier\n",
    "\n",
    "# prepare data set\n",
    "\n",
    "def generate_data(sample_number, feature_number, label_number):\n",
    "    data_set = np.random.random_sample((sample_number, feature_number))\n",
    "    labels = np.random.choice(label_number, sample_number)\n",
    "    return data_set, labels\n",
    "\n",
    "labels = 2\n",
    "dimension = 2\n",
    "test_set_size = 1000\n",
    "train_set_size = 5000\n",
    "train_set, train_labels = generate_data(train_set_size, dimension, labels)\n",
    "test_set, test_labels = generate_data(test_set_size, dimension, labels)\n",
    "\n",
    "# init weights\n",
    "number_of_iterations = 10\n",
    "weights = np.ones((test_set_size,)) / test_set_size\n",
    "\n",
    "\n",
    "def train_model(classifier, weights):\n",
    "    return classifier.fit(X=test_set, y=test_labels, sample_weight=weights)\n",
    "\n",
    "def calculate_accuracy_vector(predicted, labels):\n",
    "    result = []\n",
    "    for i in range(len(predicted)):\n",
    "        if predicted[i] == labels[i]:\n",
    "            result.append(0)\n",
    "        else:\n",
    "            result.append(1)\n",
    "    return result\n",
    "\n",
    "def calculate_error(model):\n",
    "    predicted = model.predict(test_set)\n",
    "    I=calculate_accuracy_vector(predicted, test_labels)\n",
    "    Z=np.sum(I)\n",
    "    return (1+Z)/1.0"
   ]
  },
  {
   "cell_type": "markdown",
   "metadata": {},
   "source": [
    "Fill the two functions below:"
   ]
  },
  {
   "cell_type": "code",
   "execution_count": 11,
   "metadata": {},
   "outputs": [],
   "source": [
    "def set_new_weights(model):\n",
    "    I = calculate_accuracy_vector(model.predict(test_set), test_labels)\n",
    "    new_weights =  np.add(1,I) /np.sum( np.add(1,I)) \n",
    "    return new_weights "
   ]
  },
  {
   "cell_type": "markdown",
   "metadata": {},
   "source": [
    "Train the classifier with the code below:"
   ]
  },
  {
   "cell_type": "code",
   "execution_count": 12,
   "metadata": {},
   "outputs": [
    {
     "name": "stdout",
     "output_type": "stream",
     "text": [
      "[0.00133245 0.00133245 0.00066622 0.00133245 0.00066622 0.00066622\n",
      " 0.00133245 0.00133245 0.00066622 0.00133245 0.00066622 0.00133245\n",
      " 0.00133245 0.00066622 0.00066622 0.00133245 0.00066622 0.00133245\n",
      " 0.00133245 0.00066622 0.00066622 0.00066622 0.00066622 0.00066622\n",
      " 0.00133245 0.00133245 0.00133245 0.00066622 0.00066622 0.00133245\n",
      " 0.00133245 0.00133245 0.00133245 0.00133245 0.00133245 0.00066622\n",
      " 0.00133245 0.00066622 0.00066622 0.00066622 0.00066622 0.00133245\n",
      " 0.00066622 0.00066622 0.00133245 0.00066622 0.00133245 0.00066622\n",
      " 0.00066622 0.00066622 0.00066622 0.00066622 0.00066622 0.00066622\n",
      " 0.00133245 0.00066622 0.00066622 0.00066622 0.00066622 0.00066622\n",
      " 0.00066622 0.00066622 0.00133245 0.00133245 0.00066622 0.00066622\n",
      " 0.00066622 0.00133245 0.00066622 0.00133245 0.00066622 0.00133245\n",
      " 0.00133245 0.00133245 0.00066622 0.00066622 0.00066622 0.00133245\n",
      " 0.00133245 0.00133245 0.00133245 0.00066622 0.00133245 0.00066622\n",
      " 0.00066622 0.00133245 0.00066622 0.00133245 0.00066622 0.00133245\n",
      " 0.00133245 0.00066622 0.00066622 0.00066622 0.00066622 0.00066622\n",
      " 0.00066622 0.00133245 0.00066622 0.00066622 0.00066622 0.00133245\n",
      " 0.00133245 0.00066622 0.00133245 0.00066622 0.00133245 0.00133245\n",
      " 0.00066622 0.00133245 0.00066622 0.00133245 0.00066622 0.00066622\n",
      " 0.00133245 0.00133245 0.00066622 0.00133245 0.00133245 0.00133245\n",
      " 0.00066622 0.00133245 0.00066622 0.00133245 0.00133245 0.00066622\n",
      " 0.00066622 0.00133245 0.00133245 0.00133245 0.00133245 0.00066622\n",
      " 0.00066622 0.00066622 0.00133245 0.00133245 0.00133245 0.00066622\n",
      " 0.00133245 0.00133245 0.00066622 0.00133245 0.00066622 0.00066622\n",
      " 0.00133245 0.00133245 0.00133245 0.00066622 0.00133245 0.00133245\n",
      " 0.00133245 0.00133245 0.00066622 0.00133245 0.00133245 0.00066622\n",
      " 0.00133245 0.00133245 0.00066622 0.00133245 0.00133245 0.00066622\n",
      " 0.00066622 0.00066622 0.00066622 0.00133245 0.00133245 0.00133245\n",
      " 0.00066622 0.00133245 0.00066622 0.00133245 0.00066622 0.00066622\n",
      " 0.00066622 0.00133245 0.00066622 0.00066622 0.00066622 0.00066622\n",
      " 0.00066622 0.00133245 0.00066622 0.00133245 0.00066622 0.00133245\n",
      " 0.00133245 0.00133245 0.00133245 0.00066622 0.00066622 0.00133245\n",
      " 0.00066622 0.00133245 0.00066622 0.00066622 0.00133245 0.00066622\n",
      " 0.00133245 0.00066622 0.00133245 0.00133245 0.00066622 0.00133245\n",
      " 0.00133245 0.00066622 0.00133245 0.00133245 0.00133245 0.00133245\n",
      " 0.00066622 0.00066622 0.00066622 0.00133245 0.00066622 0.00133245\n",
      " 0.00133245 0.00133245 0.00066622 0.00066622 0.00066622 0.00066622\n",
      " 0.00133245 0.00066622 0.00066622 0.00133245 0.00133245 0.00133245\n",
      " 0.00133245 0.00133245 0.00066622 0.00133245 0.00133245 0.00133245\n",
      " 0.00133245 0.00133245 0.00066622 0.00133245 0.00066622 0.00133245\n",
      " 0.00066622 0.00133245 0.00066622 0.00133245 0.00066622 0.00066622\n",
      " 0.00066622 0.00133245 0.00133245 0.00133245 0.00133245 0.00133245\n",
      " 0.00133245 0.00133245 0.00066622 0.00133245 0.00066622 0.00066622\n",
      " 0.00066622 0.00066622 0.00133245 0.00133245 0.00133245 0.00133245\n",
      " 0.00133245 0.00133245 0.00133245 0.00133245 0.00066622 0.00133245\n",
      " 0.00133245 0.00066622 0.00133245 0.00133245 0.00066622 0.00066622\n",
      " 0.00066622 0.00133245 0.00133245 0.00066622 0.00066622 0.00133245\n",
      " 0.00066622 0.00066622 0.00133245 0.00133245 0.00066622 0.00066622\n",
      " 0.00133245 0.00133245 0.00133245 0.00133245 0.00066622 0.00133245\n",
      " 0.00066622 0.00133245 0.00066622 0.00133245 0.00133245 0.00066622\n",
      " 0.00133245 0.00133245 0.00133245 0.00133245 0.00066622 0.00133245\n",
      " 0.00066622 0.00133245 0.00066622 0.00066622 0.00066622 0.00133245\n",
      " 0.00066622 0.00133245 0.00066622 0.00066622 0.00066622 0.00133245\n",
      " 0.00133245 0.00066622 0.00133245 0.00133245 0.00066622 0.00133245\n",
      " 0.00066622 0.00133245 0.00066622 0.00066622 0.00066622 0.00133245\n",
      " 0.00066622 0.00066622 0.00133245 0.00133245 0.00133245 0.00133245\n",
      " 0.00133245 0.00133245 0.00133245 0.00133245 0.00066622 0.00133245\n",
      " 0.00066622 0.00133245 0.00066622 0.00066622 0.00133245 0.00066622\n",
      " 0.00066622 0.00066622 0.00133245 0.00066622 0.00133245 0.00133245\n",
      " 0.00133245 0.00133245 0.00066622 0.00133245 0.00133245 0.00066622\n",
      " 0.00066622 0.00066622 0.00066622 0.00133245 0.00133245 0.00066622\n",
      " 0.00133245 0.00133245 0.00066622 0.00066622 0.00066622 0.00133245\n",
      " 0.00066622 0.00066622 0.00133245 0.00133245 0.00066622 0.00133245\n",
      " 0.00133245 0.00133245 0.00066622 0.00066622 0.00066622 0.00066622\n",
      " 0.00133245 0.00066622 0.00133245 0.00066622 0.00133245 0.00133245\n",
      " 0.00066622 0.00133245 0.00066622 0.00133245 0.00066622 0.00066622\n",
      " 0.00066622 0.00133245 0.00133245 0.00133245 0.00066622 0.00133245\n",
      " 0.00066622 0.00133245 0.00133245 0.00133245 0.00133245 0.00066622\n",
      " 0.00066622 0.00133245 0.00133245 0.00133245 0.00133245 0.00133245\n",
      " 0.00066622 0.00066622 0.00133245 0.00133245 0.00066622 0.00066622\n",
      " 0.00066622 0.00133245 0.00066622 0.00133245 0.00133245 0.00066622\n",
      " 0.00133245 0.00133245 0.00133245 0.00066622 0.00066622 0.00133245\n",
      " 0.00066622 0.00066622 0.00066622 0.00133245 0.00066622 0.00066622\n",
      " 0.00133245 0.00133245 0.00133245 0.00066622 0.00133245 0.00133245\n",
      " 0.00066622 0.00133245 0.00066622 0.00066622 0.00133245 0.00133245\n",
      " 0.00066622 0.00133245 0.00066622 0.00133245 0.00133245 0.00133245\n",
      " 0.00133245 0.00066622 0.00066622 0.00133245 0.00133245 0.00066622\n",
      " 0.00066622 0.00133245 0.00133245 0.00133245 0.00066622 0.00066622\n",
      " 0.00133245 0.00133245 0.00066622 0.00066622 0.00066622 0.00066622\n",
      " 0.00133245 0.00066622 0.00133245 0.00133245 0.00133245 0.00133245\n",
      " 0.00133245 0.00133245 0.00066622 0.00133245 0.00133245 0.00133245\n",
      " 0.00066622 0.00133245 0.00066622 0.00066622 0.00133245 0.00066622\n",
      " 0.00066622 0.00066622 0.00066622 0.00066622 0.00066622 0.00133245\n",
      " 0.00133245 0.00133245 0.00133245 0.00133245 0.00066622 0.00066622\n",
      " 0.00133245 0.00133245 0.00066622 0.00133245 0.00066622 0.00066622\n",
      " 0.00066622 0.00133245 0.00133245 0.00133245 0.00133245 0.00066622\n",
      " 0.00066622 0.00133245 0.00133245 0.00066622 0.00133245 0.00066622\n",
      " 0.00066622 0.00066622 0.00133245 0.00066622 0.00066622 0.00133245\n",
      " 0.00066622 0.00066622 0.00066622 0.00133245 0.00133245 0.00066622\n",
      " 0.00133245 0.00133245 0.00133245 0.00133245 0.00133245 0.00133245\n",
      " 0.00066622 0.00066622 0.00066622 0.00066622 0.00133245 0.00066622\n",
      " 0.00133245 0.00066622 0.00066622 0.00133245 0.00066622 0.00133245\n",
      " 0.00066622 0.00066622 0.00066622 0.00133245 0.00066622 0.00133245\n",
      " 0.00133245 0.00066622 0.00133245 0.00133245 0.00066622 0.00066622\n",
      " 0.00066622 0.00133245 0.00066622 0.00133245 0.00133245 0.00133245\n",
      " 0.00066622 0.00066622 0.00066622 0.00066622 0.00066622 0.00066622\n",
      " 0.00066622 0.00133245 0.00133245 0.00066622 0.00133245 0.00066622\n",
      " 0.00066622 0.00066622 0.00133245 0.00133245 0.00133245 0.00133245\n",
      " 0.00066622 0.00066622 0.00133245 0.00133245 0.00066622 0.00133245\n",
      " 0.00066622 0.00133245 0.00133245 0.00133245 0.00133245 0.00133245\n",
      " 0.00066622 0.00133245 0.00066622 0.00066622 0.00066622 0.00066622\n",
      " 0.00133245 0.00066622 0.00066622 0.00133245 0.00133245 0.00066622\n",
      " 0.00066622 0.00066622 0.00133245 0.00066622 0.00066622 0.00066622\n",
      " 0.00066622 0.00133245 0.00066622 0.00133245 0.00133245 0.00066622\n",
      " 0.00133245 0.00066622 0.00133245 0.00066622 0.00066622 0.00133245\n",
      " 0.00133245 0.00133245 0.00066622 0.00133245 0.00066622 0.00066622\n",
      " 0.00066622 0.00066622 0.00066622 0.00066622 0.00133245 0.00133245\n",
      " 0.00133245 0.00133245 0.00066622 0.00066622 0.00066622 0.00133245\n",
      " 0.00133245 0.00066622 0.00066622 0.00133245 0.00133245 0.00133245\n",
      " 0.00133245 0.00133245 0.00133245 0.00066622 0.00133245 0.00066622\n",
      " 0.00133245 0.00066622 0.00066622 0.00066622 0.00066622 0.00133245\n",
      " 0.00133245 0.00133245 0.00133245 0.00133245 0.00066622 0.00066622\n",
      " 0.00066622 0.00133245 0.00066622 0.00066622 0.00133245 0.00133245\n",
      " 0.00066622 0.00066622 0.00066622 0.00133245 0.00066622 0.00133245\n",
      " 0.00066622 0.00066622 0.00066622 0.00133245 0.00133245 0.00066622\n",
      " 0.00066622 0.00133245 0.00066622 0.00133245 0.00066622 0.00133245\n",
      " 0.00066622 0.00066622 0.00066622 0.00066622 0.00133245 0.00066622\n",
      " 0.00066622 0.00066622 0.00133245 0.00066622 0.00066622 0.00133245\n",
      " 0.00066622 0.00066622 0.00133245 0.00066622 0.00066622 0.00066622\n",
      " 0.00066622 0.00066622 0.00133245 0.00133245 0.00066622 0.00133245\n",
      " 0.00133245 0.00133245 0.00133245 0.00133245 0.00133245 0.00066622\n",
      " 0.00066622 0.00066622 0.00133245 0.00133245 0.00066622 0.00133245\n",
      " 0.00066622 0.00133245 0.00066622 0.00066622 0.00133245 0.00133245\n",
      " 0.00133245 0.00133245 0.00133245 0.00066622 0.00133245 0.00133245\n",
      " 0.00133245 0.00133245 0.00133245 0.00133245 0.00133245 0.00133245\n",
      " 0.00066622 0.00066622 0.00066622 0.00133245 0.00133245 0.00066622\n",
      " 0.00133245 0.00066622 0.00066622 0.00133245 0.00066622 0.00066622\n",
      " 0.00066622 0.00066622 0.00066622 0.00066622 0.00066622 0.00066622\n",
      " 0.00133245 0.00066622 0.00133245 0.00133245 0.00133245 0.00066622\n",
      " 0.00066622 0.00066622 0.00133245 0.00066622 0.00066622 0.00133245\n",
      " 0.00066622 0.00133245 0.00066622 0.00133245 0.00133245 0.00066622\n",
      " 0.00066622 0.00066622 0.00066622 0.00133245 0.00133245 0.00133245\n",
      " 0.00066622 0.00066622 0.00133245 0.00066622 0.00066622 0.00066622\n",
      " 0.00066622 0.00066622 0.00066622 0.00066622 0.00066622 0.00066622\n",
      " 0.00066622 0.00066622 0.00066622 0.00066622 0.00066622 0.00066622\n",
      " 0.00133245 0.00066622 0.00133245 0.00066622 0.00133245 0.00133245\n",
      " 0.00066622 0.00066622 0.00066622 0.00133245 0.00133245 0.00133245\n",
      " 0.00133245 0.00133245 0.00133245 0.00066622 0.00133245 0.00066622\n",
      " 0.00066622 0.00133245 0.00066622 0.00133245 0.00133245 0.00133245\n",
      " 0.00066622 0.00066622 0.00133245 0.00133245 0.00133245 0.00066622\n",
      " 0.00133245 0.00066622 0.00066622 0.00133245 0.00066622 0.00133245\n",
      " 0.00133245 0.00133245 0.00066622 0.00066622 0.00066622 0.00133245\n",
      " 0.00133245 0.00066622 0.00133245 0.00133245 0.00133245 0.00066622\n",
      " 0.00133245 0.00066622 0.00066622 0.00066622 0.00066622 0.00133245\n",
      " 0.00066622 0.00133245 0.00066622 0.00133245 0.00133245 0.00066622\n",
      " 0.00133245 0.00133245 0.00066622 0.00133245 0.00066622 0.00133245\n",
      " 0.00133245 0.00066622 0.00133245 0.00066622 0.00133245 0.00066622\n",
      " 0.00066622 0.00066622 0.00133245 0.00133245 0.00066622 0.00133245\n",
      " 0.00133245 0.00066622 0.00066622 0.00133245 0.00066622 0.00133245\n",
      " 0.00066622 0.00133245 0.00066622 0.00066622 0.00066622 0.00066622\n",
      " 0.00133245 0.00066622 0.00133245 0.00066622 0.00133245 0.00066622\n",
      " 0.00066622 0.00066622 0.00066622 0.00066622 0.00066622 0.00066622\n",
      " 0.00066622 0.00066622 0.00133245 0.00066622 0.00066622 0.00133245\n",
      " 0.00133245 0.00066622 0.00066622 0.00066622 0.00133245 0.00066622\n",
      " 0.00133245 0.00066622 0.00066622 0.00133245 0.00133245 0.00066622\n",
      " 0.00066622 0.00066622 0.00133245 0.00133245 0.00133245 0.00066622\n",
      " 0.00133245 0.00066622 0.00066622 0.00133245 0.00133245 0.00066622\n",
      " 0.00066622 0.00133245 0.00133245 0.00133245 0.00133245 0.00133245\n",
      " 0.00066622 0.00066622 0.00066622 0.00133245 0.00133245 0.00066622\n",
      " 0.00133245 0.00133245 0.00133245 0.00133245 0.00066622 0.00133245\n",
      " 0.00133245 0.00066622 0.00133245 0.00066622 0.00066622 0.00066622\n",
      " 0.00066622 0.00133245 0.00133245 0.00066622 0.00133245 0.00066622\n",
      " 0.00133245 0.00066622 0.00133245 0.00133245 0.00133245 0.00133245\n",
      " 0.00066622 0.00133245 0.00133245 0.00133245 0.00133245 0.00066622\n",
      " 0.00066622 0.00133245 0.00066622 0.00133245 0.00133245 0.00133245\n",
      " 0.00133245 0.00066622 0.00133245 0.00133245 0.00066622 0.00133245\n",
      " 0.00066622 0.00066622 0.00133245 0.00133245]\n"
     ]
    }
   ],
   "source": [
    "classifier = DecisionTreeClassifier(max_depth=1, random_state=1)\n",
    "classifier.fit(X=train_set, y=train_labels)\n",
    "alphas = []\n",
    "classifiers = []\n",
    "\n",
    "for iteration in range(number_of_iterations):\n",
    "    model = train_model(classifier, weights)\n",
    "    weights = set_new_weights(model)\n",
    "    classifiers.append(model)\n",
    "\n",
    "print(weights)\n",
    "\n",
    "validate_x, validate_label = generate_data(1, dimension, labels)"
   ]
  },
  {
   "cell_type": "markdown",
   "metadata": {},
   "source": [
    "Set the validation data set:"
   ]
  },
  {
   "cell_type": "code",
   "execution_count": 13,
   "metadata": {},
   "outputs": [],
   "source": [
    "validate_x, validate_label = generate_data(1, dimension, labels)"
   ]
  },
  {
   "cell_type": "markdown",
   "metadata": {},
   "source": [
    "Fill the prediction code:"
   ]
  },
  {
   "cell_type": "code",
   "execution_count": 14,
   "metadata": {},
   "outputs": [],
   "source": [
    "def get_prediction(x):\n",
    "    predictions = []\n",
    "    for i in range(len(classifiers)):\n",
    "        predicted = classifiers[i].predict(x)\n",
    "        predictions.append(predicted)\n",
    "  \n",
    "    labels_list = np.unique(test_labels) \n",
    "    size_vec = np.zeros(len(labels_list))\n",
    "    \n",
    "    for p in predictions:\n",
    "        for i in range(len(labels_list)):\n",
    "            if labels_list[i] == p[0]:\n",
    "                size_vec[i] =  size_vec[i] + 1\n",
    "                \n",
    "    index_max = np.argmax(size_vec)           \n",
    "    \n",
    "    if size_vec[index_max] > 0.5 * (len(classifiers)):\n",
    "        return labels_list[index_max]"
   ]
  },
  {
   "cell_type": "markdown",
   "metadata": {},
   "source": [
    "Test it:"
   ]
  },
  {
   "cell_type": "code",
   "execution_count": 15,
   "metadata": {},
   "outputs": [
    {
     "name": "stdout",
     "output_type": "stream",
     "text": [
      "0\n"
     ]
    }
   ],
   "source": [
    "prediction = get_prediction(validate_x)\n",
    "print(prediction)"
   ]
  }
 ],
 "metadata": {
  "kernelspec": {
   "display_name": "Python 3",
   "language": "python",
   "name": "python3"
  },
  "language_info": {
   "codemirror_mode": {
    "name": "ipython",
    "version": 3
   },
   "file_extension": ".py",
   "mimetype": "text/x-python",
   "name": "python",
   "nbconvert_exporter": "python",
   "pygments_lexer": "ipython3",
   "version": "3.7.1"
  }
 },
 "nbformat": 4,
 "nbformat_minor": 2
}
